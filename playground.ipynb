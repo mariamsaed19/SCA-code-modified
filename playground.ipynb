{
 "cells": [
  {
   "cell_type": "code",
   "execution_count": null,
   "metadata": {},
   "outputs": [],
   "source": [
    "import pandas as pd"
   ]
  },
  {
   "cell_type": "code",
   "execution_count": null,
   "metadata": {},
   "outputs": [],
   "source": [
    "cifar_nod = pd.read_csv(\"/scratch/mt/new-structure/experiments/msaeed/masters/SCA/result-cifar/nod_CIFAR10_20_epoch_CNN_attack_cnn.csv\")"
   ]
  }
 ],
 "metadata": {
  "language_info": {
   "name": "python"
  }
 },
 "nbformat": 4,
 "nbformat_minor": 2
}
